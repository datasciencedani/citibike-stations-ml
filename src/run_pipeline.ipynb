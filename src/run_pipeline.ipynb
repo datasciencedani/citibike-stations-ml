{
 "cells": [
  {
   "cell_type": "code",
   "execution_count": null,
   "metadata": {},
   "outputs": [],
   "source": [
    "import warnings\n",
    "warnings.filterwarnings('ignore')"
   ]
  },
  {
   "cell_type": "code",
   "execution_count": null,
   "metadata": {},
   "outputs": [],
   "source": [
    "import os\n",
    "\n",
    "from datetime import datetime\n",
    "import pytz\n",
    "\n",
    "from kfp import compiler\n",
    "from google.cloud import aiplatform\n",
    "\n",
    "from training_pipeline import pipeline"
   ]
  },
  {
   "cell_type": "code",
   "execution_count": null,
   "metadata": {},
   "outputs": [],
   "source": [
    "from dotenv import load_dotenv\n",
    "load_dotenv()\n",
    "\n",
    "# Project variables:\n",
    "PROJECT_ID=os.getenv('PROJECT_ID')\n",
    "BUCKET_NAME=os.getenv('BUCKET_NAME')\n",
    "USER=os.getenv('USER')\n",
    "LOCATION=os.getenv('LOCATION')\n",
    "SERVICE_ACCOUNT=os.getenv('SERVICE_ACCOUNT')"
   ]
  },
  {
   "cell_type": "code",
   "execution_count": null,
   "metadata": {},
   "outputs": [],
   "source": [
    "compiler.Compiler().compile(pipeline, package_path='pipeline.yaml')"
   ]
  },
  {
   "cell_type": "code",
   "execution_count": null,
   "metadata": {},
   "outputs": [
    {
     "name": "stdout",
     "output_type": "stream",
     "text": [
      "Creating PipelineJob\n",
      "PipelineJob created. Resource name: projects/532579765435/locations/us-central1/pipelineJobs/pipeline-citibike-20231106193221\n",
      "To use this PipelineJob in another session:\n",
      "pipeline_job = aiplatform.PipelineJob.get('projects/532579765435/locations/us-central1/pipelineJobs/pipeline-citibike-20231106193221')\n",
      "View Pipeline Job:\n",
      "https://console.cloud.google.com/vertex-ai/locations/us-central1/pipelines/runs/pipeline-citibike-20231106193221?project=532579765435\n"
     ]
    }
   ],
   "source": [
    "# Job parameters:\n",
    "tz = pytz.timezone(\"US/Eastern\")\n",
    "EXECUTION_TS = datetime.now(tz).strftime(\"%Y-%m-%d %H:%M:%S\")\n",
    "DISPLAY_NAME = \"pipeline-citibike-{}\".format(EXECUTION_TS)\n",
    "PIPELINE_ROOT = \"gs://{}/midterm_project/pipeline_root\".format(BUCKET_NAME)\n",
    "\n",
    "# Pipeline input parameters:\n",
    "data_gcs_uri = f'gs://{BUCKET_NAME}/midterm_project/data/citi_bike_data_00000.csv' # DON'T FORGET TO CREATE A GCS BUCKET AND UPLOAD THE citi_bike_data_00000.csv FILE\n",
    "label = \"percentage_bikes_available\"\n",
    "\n",
    "# Running:\n",
    "job = aiplatform.PipelineJob(\n",
    "        display_name=DISPLAY_NAME,\n",
    "        template_path='pipeline.yaml',\n",
    "        pipeline_root=PIPELINE_ROOT,\n",
    "        enable_caching=True,\n",
    "        project=PROJECT_ID,\n",
    "        location=LOCATION,\n",
    "        labels={\"user\": USER},\n",
    "        parameter_values={\n",
    "            \"data_gcs_uri\": data_gcs_uri,\n",
    "            \"label\": label,\n",
    "        },\n",
    ")\n",
    "\n",
    "job.submit(service_account=SERVICE_ACCOUNT)"
   ]
  },
  {
   "cell_type": "code",
   "execution_count": null,
   "metadata": {},
   "outputs": [],
   "source": [
    "pipeline_df = aiplatform.get_pipeline_df(pipeline=\"pipeline-citibike\")"
   ]
  },
  {
   "cell_type": "code",
   "execution_count": null,
   "metadata": {},
   "outputs": [
    {
     "data": {
      "text/html": [
       "<div>\n",
       "<style scoped>\n",
       "    .dataframe tbody tr th:only-of-type {\n",
       "        vertical-align: middle;\n",
       "    }\n",
       "\n",
       "    .dataframe tbody tr th {\n",
       "        vertical-align: top;\n",
       "    }\n",
       "\n",
       "    .dataframe thead th {\n",
       "        text-align: right;\n",
       "    }\n",
       "</style>\n",
       "<table border=\"1\" class=\"dataframe\">\n",
       "  <thead>\n",
       "    <tr style=\"text-align: right;\">\n",
       "      <th></th>\n",
       "      <th>pipeline_name</th>\n",
       "      <th>run_name</th>\n",
       "      <th>param.input:label</th>\n",
       "      <th>param.input:data_gcs_uri</th>\n",
       "    </tr>\n",
       "  </thead>\n",
       "  <tbody>\n",
       "    <tr>\n",
       "      <th>0</th>\n",
       "      <td>pipeline-citibike</td>\n",
       "      <td>pipeline-citibike-20231106192444</td>\n",
       "      <td>percentage_bikes_available</td>\n",
       "      <td>gs://dz-d-stg-us-ml-zoomcamp/midterm_project/d...</td>\n",
       "    </tr>\n",
       "  </tbody>\n",
       "</table>\n",
       "</div>"
      ],
      "text/plain": [
       "       pipeline_name                          run_name  \\\n",
       "0  pipeline-citibike  pipeline-citibike-20231106192444   \n",
       "\n",
       "            param.input:label  \\\n",
       "0  percentage_bikes_available   \n",
       "\n",
       "                            param.input:data_gcs_uri  \n",
       "0  gs://dz-d-stg-us-ml-zoomcamp/midterm_project/d...  "
      ]
     },
     "execution_count": null,
     "metadata": {},
     "output_type": "execute_result"
    }
   ],
   "source": [
    "pipeline_df.head(1)"
   ]
  },
  {
   "cell_type": "code",
   "execution_count": null,
   "metadata": {},
   "outputs": [],
   "source": []
  }
 ],
 "metadata": {
  "kernelspec": {
   "display_name": "env-ml-citibike",
   "language": "python",
   "name": "env-ml-citibike"
  }
 },
 "nbformat": 4,
 "nbformat_minor": 4
}
