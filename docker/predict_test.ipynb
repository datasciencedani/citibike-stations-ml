{
 "cells": [
  {
   "cell_type": "code",
   "execution_count": null,
   "id": "24cc4543-4d7b-48e0-91e3-a3423635ba0b",
   "metadata": {},
   "outputs": [],
   "source": [
    "import warnings\n",
    "warnings.filterwarnings('ignore')"
   ]
  },
  {
   "cell_type": "code",
   "execution_count": null,
   "id": "ac9ded67-3db1-4f0c-9dff-530201c47a8e",
   "metadata": {},
   "outputs": [],
   "source": [
    "import requests\n",
    "\n",
    "url = 'http://localhost:8080/predict'"
   ]
  },
  {
   "cell_type": "code",
   "execution_count": null,
   "id": "d2062241-4b76-45bd-bf03-b2ba5c99713f",
   "metadata": {},
   "outputs": [],
   "source": [
    "# Tuesday 28 of December of 2021\n",
    "station_status = {\n",
    "    \"station_id\": \"466\",\n",
    "    \"lat\": 40.743954,\n",
    "    \"lon\": -73.991449,\n",
    "    \"capacity\": 28,\n",
    "    \"dayofweek\": 1, # Tuesday\n",
    "    \"weekend\": 0,\n",
    "    \"dayofmonth\": 28,\n",
    "    \"dayofyear\": 362,\n",
    "    \"month\": 12,\n",
    "    \"year\": 2021,\n",
    "    \"hour\": 8,\n",
    "    \"minute\": 20,\n",
    "    \"is_holiday\":0,\n",
    "}"
   ]
  },
  {
   "cell_type": "code",
   "execution_count": null,
   "id": "b4255c9e-20f4-43a5-ae57-54399bad2d05",
   "metadata": {},
   "outputs": [],
   "source": [
    "response = requests.post(url, json=station_status).json()\n",
    "print(response)"
   ]
  },
  {
   "cell_type": "code",
   "execution_count": null,
   "id": "545fc2af-c776-4057-aaba-07c2600098b0",
   "metadata": {},
   "outputs": [],
   "source": [
    "if response['bike_percentage_availability'] < .20:\n",
    "    print('You might not find a bike available on the station by the time you requested.')\n",
    "else:\n",
    "    print(\"Don't worry, there will be bikes.\")"
   ]
  },
  {
   "cell_type": "code",
   "execution_count": null,
   "id": "2564f0d6-aa80-4e8e-82f6-1258483a2e8a",
   "metadata": {},
   "outputs": [],
   "source": []
  }
 ],
 "metadata": {
  "kernelspec": {
   "display_name": "env-ml-citibike",
   "language": "python",
   "name": "env-ml-citibike"
  }
 },
 "nbformat": 4,
 "nbformat_minor": 5
}
